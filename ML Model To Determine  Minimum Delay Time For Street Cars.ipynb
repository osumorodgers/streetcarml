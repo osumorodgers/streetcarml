{
 "cells": [
  {
   "cell_type": "code",
   "execution_count": 2,
   "metadata": {},
   "outputs": [],
   "source": [
    "# Load libraries\n",
    "import numpy as np\n",
    "import pandas as pd\n",
    "from numpy import arange\n",
    "from matplotlib import pyplot\n",
    "from pandas import read_csv\n",
    "from pandas import set_option\n",
    "from sklearn.preprocessing import StandardScaler\n",
    "from sklearn.model_selection import train_test_split\n",
    "from sklearn.model_selection import KFold\n",
    "from sklearn.model_selection import cross_val_score\n",
    "from sklearn.model_selection import GridSearchCV\n",
    "from sklearn.linear_model import LinearRegression\n",
    "from sklearn.linear_model import Lasso\n",
    "from sklearn.linear_model import ElasticNet\n",
    "from sklearn.tree import DecisionTreeRegressor\n",
    "from sklearn.neighbors import KNeighborsRegressor\n",
    "from sklearn.svm import SVR\n",
    "from sklearn.pipeline import Pipeline\n",
    "from sklearn.ensemble import RandomForestRegressor\n",
    "from sklearn.ensemble import GradientBoostingRegressor\n",
    "from sklearn.ensemble import ExtraTreesRegressor\n",
    "from sklearn.ensemble import AdaBoostRegressor\n",
    "from sklearn.metrics import mean_squared_error\n",
    "from sklearn.preprocessing import MinMaxScaler\n",
    "from sklearn.linear_model import LogisticRegression\n",
    "from sklearn.neighbors import KNeighborsClassifier\n",
    "from sklearn.svm import SVC\n",
    "from sklearn.ensemble import RandomForestClassifier\n",
    "from sklearn.naive_bayes import GaussianNB\n",
    "from sklearn import model_selection\n",
    "from sklearn.utils import class_weight\n",
    "from sklearn.metrics import classification_report\n",
    "from sklearn.metrics import confusion_matrix\n",
    "from numpy import absolute\n",
    "from pandas import read_csv\n",
    "from sklearn.model_selection import cross_val_score\n",
    "from sklearn.model_selection import RepeatedKFold\n",
    "from xgboost import XGBRegressor\n",
    "from sklearn.neural_network import MLPClassifier\n",
    "from sklearn.neural_network import MLPRegressor"
   ]
  },
  {
   "cell_type": "markdown",
   "metadata": {},
   "source": [
    "Importing the necessary libraries that will be used for classfication.\n",
    "## Problem Definition\n",
    "Given the dataset that contained collected data about the delays caused by incidents that accoured on various road routes, by various vehicles, at different dates and times and vehicles. The minimimum gap of time was also collected.\n",
    "The aim of this machine learning project was to determine the minimum delay time as a result of the incident.\n",
    "The problem therefore is a regression problem and not classification one.\n",
    "We will use regression based algorithms."
   ]
  },
  {
   "cell_type": "markdown",
   "metadata": {},
   "source": [
    "### Import the Dataset"
   ]
  },
  {
   "cell_type": "code",
   "execution_count": 23,
   "metadata": {},
   "outputs": [],
   "source": [
    "#importing all the tables\n",
    "st14 = pd.read_excel(r'C:\\Users\\user\\Desktop\\Writing\\Bon\\streetcarml\\ttc-streetcar-delay-data-2014.xlsx')\n",
    "st15 = pd.read_excel(r'C:\\Users\\user\\Desktop\\Writing\\Bon\\streetcarml\\ttc-streetcar-delay-data-2015.xlsx')\n",
    "st16 = pd.read_excel(r'C:\\Users\\user\\Desktop\\Writing\\Bon\\streetcarml\\ttc-streetcar-delay-data-2016.xlsx')\n",
    "st17 = pd.read_excel(r'C:\\Users\\user\\Desktop\\Writing\\Bon\\streetcarml\\ttc-streetcar-delay-data-2017.xlsx')\n",
    "st18 = pd.read_excel(r'C:\\Users\\user\\Desktop\\Writing\\Bon\\streetcarml\\ttc-streetcar-delay-data-20181.xlsx')\n",
    "st19 = pd.read_excel(r'C:\\Users\\user\\Desktop\\Writing\\Bon\\streetcarml\\ttc-streetcar-delay-data-2019.xlsx')\n",
    "st20 = pd.read_excel(r'C:\\Users\\user\\Desktop\\Writing\\Bon\\streetcarml\\ttc-streetcar-delay-data-2020.xlsx')\n",
    "frames = [st14,st15,st16,st17,st18,st19,st20]\n",
    "df = pd.concat(frames)\n",
    "\n",
    "### I have limited RAM 12 gb only, running the whole dataset would have consumed a lot of time probablly half a day,\n",
    "## i have opted to use 2014 data only\n",
    "## Uncomment the above code to run the whole dataset\n",
    "# also, the data from the excel files, i combined it on a yearly basis, i have included the restructured data files"
   ]
  },
  {
   "cell_type": "code",
   "execution_count": 4,
   "metadata": {},
   "outputs": [],
   "source": [
    "#Import data\n",
    "#df = pd.read_excel(r'C:\\Users\\user\\Desktop\\Writing\\Bon\\streetcarml\\ttc-streetcar-delay-data-2014.xlsx')"
   ]
  },
  {
   "cell_type": "markdown",
   "metadata": {},
   "source": [
    "### Peek at the data\n",
    "Before making any changes to the data, inspect the various columns."
   ]
  },
  {
   "cell_type": "code",
   "execution_count": 24,
   "metadata": {},
   "outputs": [
    {
     "name": "stdout",
     "output_type": "stream",
     "text": [
      "<class 'pandas.core.frame.DataFrame'>\n",
      "Int64Index: 69955 entries, 0 to 4277\n",
      "Data columns (total 10 columns):\n",
      " #   Column       Non-Null Count  Dtype         \n",
      "---  ------       --------------  -----         \n",
      " 0   Report Date  69541 non-null  datetime64[ns]\n",
      " 1   Route        69541 non-null  float64       \n",
      " 2   Time         69531 non-null  object        \n",
      " 3   Day          69542 non-null  object        \n",
      " 4   Location     69332 non-null  object        \n",
      " 5   Incident     69541 non-null  object        \n",
      " 6   Min Delay    66015 non-null  float64       \n",
      " 7   Min Gap      65982 non-null  float64       \n",
      " 8   Direction    69257 non-null  object        \n",
      " 9   Vehicle      65880 non-null  float64       \n",
      "dtypes: datetime64[ns](1), float64(4), object(5)\n",
      "memory usage: 5.9+ MB\n"
     ]
    }
   ],
   "source": [
    "df.info()"
   ]
  },
  {
   "cell_type": "markdown",
   "metadata": {},
   "source": [
    "There are white spaces between the columns, which will make it hard during referencing hence the need to replace the white spaces with underscores"
   ]
  },
  {
   "cell_type": "code",
   "execution_count": 25,
   "metadata": {},
   "outputs": [],
   "source": [
    "#Remove white spaces from column\n",
    "df.columns = df.columns.str.replace(' ', '_')"
   ]
  },
  {
   "cell_type": "markdown",
   "metadata": {},
   "source": [
    "### Feature Generation\n",
    "From the report date we can generate features such as month, date, year features. From the date one can determine which semester of the year incidents were occurring. From date one can generate if the day was a weekend or not. Another fetaure generated from the date feature includes the quarter of year."
   ]
  },
  {
   "cell_type": "code",
   "execution_count": 26,
   "metadata": {},
   "outputs": [],
   "source": [
    "## Generate new features from report date\n",
    "df['month'] = df['Report_Date'].dt.month\n",
    "df['day_no'] = df['Report_Date'].dt.day #day of month\n",
    "df['year'] = df['Report_Date'].dt.year\n",
    "df['quarter'] = df['Report_Date'].dt.quarter\n",
    "df['dayofweek'] = df['Report_Date'].dt.dayofweek\n",
    "df['semester'] = np.where(df.quarter.isin([1,2]),1,2)\n",
    "df['is_weekend'] = np.where(df['Day'].isin(['Sunday','Saturday']),1,0)"
   ]
  },
  {
   "cell_type": "markdown",
   "metadata": {},
   "source": [
    "From the time variable we can obtain the hour feature."
   ]
  },
  {
   "cell_type": "code",
   "execution_count": 27,
   "metadata": {},
   "outputs": [],
   "source": [
    "from datetime import datetime\n",
    "df['Time'] = pd.to_datetime(df['Time'],format= '%H:%M:%S' ).dt.time"
   ]
  },
  {
   "cell_type": "code",
   "execution_count": 28,
   "metadata": {},
   "outputs": [],
   "source": [
    "df['Time'] = pd.to_datetime(df['Time'], format='%H:%M:%S' ).apply(pd.Timestamp)"
   ]
  },
  {
   "cell_type": "code",
   "execution_count": 29,
   "metadata": {},
   "outputs": [],
   "source": [
    "#extract hour and minute features\n",
    "df['hour'] = df['Time'].dt.hour"
   ]
  },
  {
   "cell_type": "markdown",
   "metadata": {},
   "source": [
    "### Dropping the unnecessary variables"
   ]
  },
  {
   "cell_type": "code",
   "execution_count": 30,
   "metadata": {},
   "outputs": [],
   "source": [
    "#delete the report_date feature\n",
    "df = df.drop(['Report_Date'], axis = 1)"
   ]
  },
  {
   "cell_type": "code",
   "execution_count": 31,
   "metadata": {},
   "outputs": [],
   "source": [
    "#Drop day and time feature, not useful now\n",
    "df = df.drop(['Time'], axis = 1)\n",
    "#Dropped Day column extracted day no from date\n",
    "df = df.drop(['Day'], axis = 1)\n",
    "#Drop vehicle column too many class variables\n",
    "df = df.drop(['Vehicle'], axis = 1)\n",
    "##Drop null values\n",
    "df = df.dropna()"
   ]
  },
  {
   "cell_type": "markdown",
   "metadata": {},
   "source": [
    "### Exploratory Data Analysis"
   ]
  },
  {
   "cell_type": "code",
   "execution_count": 32,
   "metadata": {},
   "outputs": [
    {
     "data": {
      "text/html": [
       "<div>\n",
       "<style scoped>\n",
       "    .dataframe tbody tr th:only-of-type {\n",
       "        vertical-align: middle;\n",
       "    }\n",
       "\n",
       "    .dataframe tbody tr th {\n",
       "        vertical-align: top;\n",
       "    }\n",
       "\n",
       "    .dataframe thead th {\n",
       "        text-align: right;\n",
       "    }\n",
       "</style>\n",
       "<table border=\"1\" class=\"dataframe\">\n",
       "  <thead>\n",
       "    <tr style=\"text-align: right;\">\n",
       "      <th></th>\n",
       "      <th>Min_Delay</th>\n",
       "      <th>Min_Gap</th>\n",
       "    </tr>\n",
       "  </thead>\n",
       "  <tbody>\n",
       "    <tr>\n",
       "      <th>count</th>\n",
       "      <td>65521.000000</td>\n",
       "      <td>65521.000000</td>\n",
       "    </tr>\n",
       "    <tr>\n",
       "      <th>mean</th>\n",
       "      <td>12.815845</td>\n",
       "      <td>18.366035</td>\n",
       "    </tr>\n",
       "    <tr>\n",
       "      <th>std</th>\n",
       "      <td>31.982086</td>\n",
       "      <td>35.112674</td>\n",
       "    </tr>\n",
       "    <tr>\n",
       "      <th>min</th>\n",
       "      <td>0.000000</td>\n",
       "      <td>0.000000</td>\n",
       "    </tr>\n",
       "    <tr>\n",
       "      <th>25%</th>\n",
       "      <td>5.000000</td>\n",
       "      <td>9.000000</td>\n",
       "    </tr>\n",
       "    <tr>\n",
       "      <th>50%</th>\n",
       "      <td>6.000000</td>\n",
       "      <td>12.000000</td>\n",
       "    </tr>\n",
       "    <tr>\n",
       "      <th>75%</th>\n",
       "      <td>11.000000</td>\n",
       "      <td>20.000000</td>\n",
       "    </tr>\n",
       "    <tr>\n",
       "      <th>max</th>\n",
       "      <td>1400.000000</td>\n",
       "      <td>4216.000000</td>\n",
       "    </tr>\n",
       "  </tbody>\n",
       "</table>\n",
       "</div>"
      ],
      "text/plain": [
       "          Min_Delay       Min_Gap\n",
       "count  65521.000000  65521.000000\n",
       "mean      12.815845     18.366035\n",
       "std       31.982086     35.112674\n",
       "min        0.000000      0.000000\n",
       "25%        5.000000      9.000000\n",
       "50%        6.000000     12.000000\n",
       "75%       11.000000     20.000000\n",
       "max     1400.000000   4216.000000"
      ]
     },
     "execution_count": 32,
     "metadata": {},
     "output_type": "execute_result"
    }
   ],
   "source": [
    "df_num = df[['Min_Delay', 'Min_Gap']]\n",
    "df_num.describe()"
   ]
  },
  {
   "cell_type": "markdown",
   "metadata": {},
   "source": [
    "Getting a summary statistic of the actual  numeric variables"
   ]
  },
  {
   "cell_type": "code",
   "execution_count": 33,
   "metadata": {
    "scrolled": true
   },
   "outputs": [
    {
     "data": {
      "text/html": [
       "<div>\n",
       "<style scoped>\n",
       "    .dataframe tbody tr th:only-of-type {\n",
       "        vertical-align: middle;\n",
       "    }\n",
       "\n",
       "    .dataframe tbody tr th {\n",
       "        vertical-align: top;\n",
       "    }\n",
       "\n",
       "    .dataframe thead th {\n",
       "        text-align: right;\n",
       "    }\n",
       "</style>\n",
       "<table border=\"1\" class=\"dataframe\">\n",
       "  <thead>\n",
       "    <tr style=\"text-align: right;\">\n",
       "      <th></th>\n",
       "      <th>Route</th>\n",
       "      <th>Min_Delay</th>\n",
       "      <th>Min_Gap</th>\n",
       "      <th>month</th>\n",
       "      <th>day_no</th>\n",
       "      <th>year</th>\n",
       "      <th>quarter</th>\n",
       "      <th>dayofweek</th>\n",
       "      <th>semester</th>\n",
       "      <th>is_weekend</th>\n",
       "      <th>hour</th>\n",
       "    </tr>\n",
       "  </thead>\n",
       "  <tbody>\n",
       "    <tr>\n",
       "      <th>Route</th>\n",
       "      <td>1.000000</td>\n",
       "      <td>-0.027168</td>\n",
       "      <td>-0.056931</td>\n",
       "      <td>-0.009774</td>\n",
       "      <td>0.005892</td>\n",
       "      <td>-0.014560</td>\n",
       "      <td>-0.007088</td>\n",
       "      <td>-0.040802</td>\n",
       "      <td>-0.008656</td>\n",
       "      <td>-0.051103</td>\n",
       "      <td>0.154613</td>\n",
       "    </tr>\n",
       "    <tr>\n",
       "      <th>Min_Delay</th>\n",
       "      <td>-0.027168</td>\n",
       "      <td>1.000000</td>\n",
       "      <td>0.809025</td>\n",
       "      <td>0.006612</td>\n",
       "      <td>-0.002959</td>\n",
       "      <td>-0.001662</td>\n",
       "      <td>0.006011</td>\n",
       "      <td>0.030445</td>\n",
       "      <td>0.003958</td>\n",
       "      <td>0.033957</td>\n",
       "      <td>0.017328</td>\n",
       "    </tr>\n",
       "    <tr>\n",
       "      <th>Min_Gap</th>\n",
       "      <td>-0.056931</td>\n",
       "      <td>0.809025</td>\n",
       "      <td>1.000000</td>\n",
       "      <td>0.009986</td>\n",
       "      <td>-0.002591</td>\n",
       "      <td>0.008630</td>\n",
       "      <td>0.009370</td>\n",
       "      <td>0.038187</td>\n",
       "      <td>0.011591</td>\n",
       "      <td>0.044941</td>\n",
       "      <td>0.013383</td>\n",
       "    </tr>\n",
       "    <tr>\n",
       "      <th>month</th>\n",
       "      <td>-0.009774</td>\n",
       "      <td>0.006612</td>\n",
       "      <td>0.009986</td>\n",
       "      <td>1.000000</td>\n",
       "      <td>0.025977</td>\n",
       "      <td>-0.213009</td>\n",
       "      <td>0.971402</td>\n",
       "      <td>0.005216</td>\n",
       "      <td>0.869686</td>\n",
       "      <td>-0.000508</td>\n",
       "      <td>0.015383</td>\n",
       "    </tr>\n",
       "    <tr>\n",
       "      <th>day_no</th>\n",
       "      <td>0.005892</td>\n",
       "      <td>-0.002959</td>\n",
       "      <td>-0.002591</td>\n",
       "      <td>0.025977</td>\n",
       "      <td>1.000000</td>\n",
       "      <td>0.017103</td>\n",
       "      <td>0.026845</td>\n",
       "      <td>-0.004779</td>\n",
       "      <td>0.022993</td>\n",
       "      <td>-0.002547</td>\n",
       "      <td>0.011229</td>\n",
       "    </tr>\n",
       "    <tr>\n",
       "      <th>year</th>\n",
       "      <td>-0.014560</td>\n",
       "      <td>-0.001662</td>\n",
       "      <td>0.008630</td>\n",
       "      <td>-0.213009</td>\n",
       "      <td>0.017103</td>\n",
       "      <td>1.000000</td>\n",
       "      <td>-0.196861</td>\n",
       "      <td>0.026239</td>\n",
       "      <td>-0.135449</td>\n",
       "      <td>0.044743</td>\n",
       "      <td>0.019069</td>\n",
       "    </tr>\n",
       "    <tr>\n",
       "      <th>quarter</th>\n",
       "      <td>-0.007088</td>\n",
       "      <td>0.006011</td>\n",
       "      <td>0.009370</td>\n",
       "      <td>0.971402</td>\n",
       "      <td>0.026845</td>\n",
       "      <td>-0.196861</td>\n",
       "      <td>1.000000</td>\n",
       "      <td>-0.000627</td>\n",
       "      <td>0.896539</td>\n",
       "      <td>-0.002112</td>\n",
       "      <td>0.017688</td>\n",
       "    </tr>\n",
       "    <tr>\n",
       "      <th>dayofweek</th>\n",
       "      <td>-0.040802</td>\n",
       "      <td>0.030445</td>\n",
       "      <td>0.038187</td>\n",
       "      <td>0.005216</td>\n",
       "      <td>-0.004779</td>\n",
       "      <td>0.026239</td>\n",
       "      <td>-0.000627</td>\n",
       "      <td>1.000000</td>\n",
       "      <td>0.002591</td>\n",
       "      <td>0.750896</td>\n",
       "      <td>0.038431</td>\n",
       "    </tr>\n",
       "    <tr>\n",
       "      <th>semester</th>\n",
       "      <td>-0.008656</td>\n",
       "      <td>0.003958</td>\n",
       "      <td>0.011591</td>\n",
       "      <td>0.869686</td>\n",
       "      <td>0.022993</td>\n",
       "      <td>-0.135449</td>\n",
       "      <td>0.896539</td>\n",
       "      <td>0.002591</td>\n",
       "      <td>1.000000</td>\n",
       "      <td>0.004321</td>\n",
       "      <td>0.014851</td>\n",
       "    </tr>\n",
       "    <tr>\n",
       "      <th>is_weekend</th>\n",
       "      <td>-0.051103</td>\n",
       "      <td>0.033957</td>\n",
       "      <td>0.044941</td>\n",
       "      <td>-0.000508</td>\n",
       "      <td>-0.002547</td>\n",
       "      <td>0.044743</td>\n",
       "      <td>-0.002112</td>\n",
       "      <td>0.750896</td>\n",
       "      <td>0.004321</td>\n",
       "      <td>1.000000</td>\n",
       "      <td>0.046733</td>\n",
       "    </tr>\n",
       "    <tr>\n",
       "      <th>hour</th>\n",
       "      <td>0.154613</td>\n",
       "      <td>0.017328</td>\n",
       "      <td>0.013383</td>\n",
       "      <td>0.015383</td>\n",
       "      <td>0.011229</td>\n",
       "      <td>0.019069</td>\n",
       "      <td>0.017688</td>\n",
       "      <td>0.038431</td>\n",
       "      <td>0.014851</td>\n",
       "      <td>0.046733</td>\n",
       "      <td>1.000000</td>\n",
       "    </tr>\n",
       "  </tbody>\n",
       "</table>\n",
       "</div>"
      ],
      "text/plain": [
       "               Route  Min_Delay   Min_Gap     month    day_no      year  \\\n",
       "Route       1.000000  -0.027168 -0.056931 -0.009774  0.005892 -0.014560   \n",
       "Min_Delay  -0.027168   1.000000  0.809025  0.006612 -0.002959 -0.001662   \n",
       "Min_Gap    -0.056931   0.809025  1.000000  0.009986 -0.002591  0.008630   \n",
       "month      -0.009774   0.006612  0.009986  1.000000  0.025977 -0.213009   \n",
       "day_no      0.005892  -0.002959 -0.002591  0.025977  1.000000  0.017103   \n",
       "year       -0.014560  -0.001662  0.008630 -0.213009  0.017103  1.000000   \n",
       "quarter    -0.007088   0.006011  0.009370  0.971402  0.026845 -0.196861   \n",
       "dayofweek  -0.040802   0.030445  0.038187  0.005216 -0.004779  0.026239   \n",
       "semester   -0.008656   0.003958  0.011591  0.869686  0.022993 -0.135449   \n",
       "is_weekend -0.051103   0.033957  0.044941 -0.000508 -0.002547  0.044743   \n",
       "hour        0.154613   0.017328  0.013383  0.015383  0.011229  0.019069   \n",
       "\n",
       "             quarter  dayofweek  semester  is_weekend      hour  \n",
       "Route      -0.007088  -0.040802 -0.008656   -0.051103  0.154613  \n",
       "Min_Delay   0.006011   0.030445  0.003958    0.033957  0.017328  \n",
       "Min_Gap     0.009370   0.038187  0.011591    0.044941  0.013383  \n",
       "month       0.971402   0.005216  0.869686   -0.000508  0.015383  \n",
       "day_no      0.026845  -0.004779  0.022993   -0.002547  0.011229  \n",
       "year       -0.196861   0.026239 -0.135449    0.044743  0.019069  \n",
       "quarter     1.000000  -0.000627  0.896539   -0.002112  0.017688  \n",
       "dayofweek  -0.000627   1.000000  0.002591    0.750896  0.038431  \n",
       "semester    0.896539   0.002591  1.000000    0.004321  0.014851  \n",
       "is_weekend -0.002112   0.750896  0.004321    1.000000  0.046733  \n",
       "hour        0.017688   0.038431  0.014851    0.046733  1.000000  "
      ]
     },
     "execution_count": 33,
     "metadata": {},
     "output_type": "execute_result"
    }
   ],
   "source": [
    "## Getting correlation  between variables\n",
    "df.corr(method = \"pearson\")"
   ]
  },
  {
   "cell_type": "markdown",
   "metadata": {},
   "source": [
    "The correlation mostly range between -1 and 1 for variables in relation to the Min Daly time. MIn Gap is the one variable that has a strong corrlation with the minimum delay time."
   ]
  },
  {
   "cell_type": "markdown",
   "metadata": {},
   "source": [
    "## Visualizations"
   ]
  },
  {
   "cell_type": "code",
   "execution_count": 34,
   "metadata": {},
   "outputs": [
    {
     "data": {
      "image/png": "[encoded data removed]",
      "text/plain": [
       "<Figure size 432x288 with 12 Axes>"
      ]
     },
     "metadata": {
      "needs_background": "light"
     },
     "output_type": "display_data"
    }
   ],
   "source": [
    "# histograms\n",
    "df.hist(sharex=False, sharey=False, xlabelsize=1, ylabelsize=1)\n",
    "pyplot.show()"
   ]
  },
  {
   "cell_type": "code",
   "execution_count": 35,
   "metadata": {},
   "outputs": [
    {
     "data": {
      "image/png": "[encoded data removed]",
      "text/plain": [
       "<Figure size 432x288 with 16 Axes>"
      ]
     },
     "metadata": {
      "needs_background": "light"
     },
     "output_type": "display_data"
    }
   ],
   "source": [
    "# density\n",
    "df.plot(kind='density', subplots=True, layout=(4,4), sharex=False, legend=False,\n",
    "fontsize=1)\n",
    "pyplot.show()\n"
   ]
  },
  {
   "cell_type": "code",
   "execution_count": 36,
   "metadata": {},
   "outputs": [
    {
     "data": {
      "image/png": "[encoded data removed]",
      "text/plain": [
       "<Figure size 432x288 with 16 Axes>"
      ]
     },
     "metadata": {
      "needs_background": "light"
     },
     "output_type": "display_data"
    }
   ],
   "source": [
    "# box and whisker plots\n",
    "df.plot(kind='box', subplots=True, layout=(4,4), sharex=False, sharey=False,\n",
    "fontsize=8)\n",
    "pyplot.show()"
   ]
  },
  {
   "cell_type": "code",
   "execution_count": 37,
   "metadata": {
    "scrolled": true
   },
   "outputs": [
    {
     "data": {
      "image/png": "[encoded data removed]",
      "text/plain": [
       "<Figure size 432x288 with 121 Axes>"
      ]
     },
     "metadata": {
      "needs_background": "light"
     },
     "output_type": "display_data"
    }
   ],
   "source": [
    "# scatter plot matrix\n",
    "from pandas.plotting import scatter_matrix\n",
    "scatter_matrix(df)\n",
    "pyplot.show()"
   ]
  },
  {
   "cell_type": "code",
   "execution_count": 38,
   "metadata": {
    "scrolled": true
   },
   "outputs": [
    {
     "data": {
      "image/png": "[encoded data removed]",
      "text/plain": [
       "<Figure size 432x288 with 2 Axes>"
      ]
     },
     "metadata": {
      "needs_background": "light"
     },
     "output_type": "display_data"
    }
   ],
   "source": [
    "# correlation matrix\n",
    "fig = pyplot.figure()\n",
    "ax = fig.add_subplot(111)\n",
    "cax = ax.matshow(df.corr(), vmin=-1, vmax=1, interpolation='none')\n",
    "fig.colorbar(cax)\n",
    "ticks = np.arange(0,14,1)\n",
    "ax.set_xticks(ticks)\n",
    "ax.set_yticks(ticks)\n",
    "pyplot.show()"
   ]
  },
  {
   "cell_type": "markdown",
   "metadata": {},
   "source": [
    "    ### Function To Clean and Prepare Data\n",
    "    INPUT\n",
    "    df - pandas dataframe \n",
    "    \n",
    "    OUTPUT\n",
    "    X - A matrix holding all of the variables you want to consider when predicting the response\n",
    "    y - the corresponding response vector\n",
    "    \n",
    "    Perform to obtain the correct X and y objects\n",
    "    This function cleans df using the following steps to produce X and y:\n",
    "    1. Select the numeric variables in the dataset\n",
    "    2. Imputes the mean to fill null values for numeric variables\n",
    "    3. Select the categorical variables\n",
    "    4. Creates dummy columns for the categorical variables\n",
    "    5. Create X as all the columns that are not the Price column\n",
    "    6. Create y as the Price column\n",
    "\n",
    "    '''"
   ]
  },
  {
   "cell_type": "code",
   "execution_count": 39,
   "metadata": {},
   "outputs": [],
   "source": [
    "#Function for data cleaning\n",
    "def clean_data(df):\n",
    "   \n",
    "  \n",
    "    num_vars= df.select_dtypes(include=['int','float']).copy().columns\n",
    "    scaler = MinMaxScaler()\n",
    "    df[[\"Min_Delay\", \"Min_Gap\"]] = scaler.fit_transform(df[[\"Min_Delay\", \"Min_Gap\"]])\n",
    "\n",
    "   \n",
    "    for var in num_vars:\n",
    "        df[var].fillna((df[var].mean()), inplace=True)\n",
    "\n",
    "   \n",
    "    cat_vars = df.select_dtypes(include=['object']).copy().columns\n",
    "\n",
    "   \n",
    "    for var in cat_vars:\n",
    "        # for each cat add dummy var, drop original column\n",
    "        df = pd.concat([df.drop(var, axis=1), pd.get_dummies(df[var], prefix=var, prefix_sep='_', drop_first=True)], axis=1)\n",
    "    \n",
    "   \n",
    "    X = df.drop(columns=[\"Min_Delay\"], axis=1)\n",
    "    y = df['Min_Delay']\n",
    "    \n",
    "    return X, y"
   ]
  },
  {
   "cell_type": "markdown",
   "metadata": {},
   "source": [
    "\n",
    "Generate the dataframe into featurs and labels. Lables oftern are represented as y"
   ]
  },
  {
   "cell_type": "code",
   "execution_count": 40,
   "metadata": {},
   "outputs": [],
   "source": [
    "X, y = clean_data(df)"
   ]
  },
  {
   "cell_type": "code",
   "execution_count": 41,
   "metadata": {},
   "outputs": [],
   "source": [
    "X_train, X_test, y_train, y_test = train_test_split(X, y, test_size = .25, random_state=42) "
   ]
  },
  {
   "cell_type": "code",
   "execution_count": 42,
   "metadata": {},
   "outputs": [],
   "source": [
    "# Test options and evaluation metric\n",
    "num_folds = 10\n",
    "seed = 7\n",
    "scoring = 'neg_mean_squared_error'"
   ]
  },
  {
   "cell_type": "code",
   "execution_count": null,
   "metadata": {},
   "outputs": [],
   "source": [
    "# Spot-Check Algorithms\n",
    "models = []\n",
    "models.append(('LR', LinearRegression()))\n",
    "models.append(('LASSO', Lasso()))\n",
    "models.append(('EN', ElasticNet()))\n",
    "models.append(('KNN', KNeighborsRegressor()))\n",
    "models.append(('CART', DecisionTreeRegressor()))\n",
    "models.append(('SVR', SVR()))\n",
    "models.append(('xgb', XGBRegressor()))\n",
    "\n",
    "# evaluate each model in turn\n",
    "results = []\n",
    "names = []\n",
    "for name, model in models:\n",
    "    kfold = KFold(n_splits=num_folds)\n",
    "    cv_results = cross_val_score(model, X_train, y_train, cv=kfold, scoring=scoring)\n",
    "    results.append(cv_results)\n",
    "    names.append(name)\n",
    "    msg = \"%s: %f (%f)\" % (name, cv_results.mean(), cv_results.std())\n",
    "    print(msg)\n"
   ]
  },
  {
   "cell_type": "code",
   "execution_count": null,
   "metadata": {},
   "outputs": [],
   "source": [
    "# Compare Algorithms\n",
    "fig = pyplot.figure()\n",
    "fig.suptitle('Scaled Algorithm Comparison')\n",
    "ax = fig.add_subplot(111)\n",
    "pyplot.boxplot(results)\n",
    "ax.set_xticklabels(names)\n",
    "pyplot.show()"
   ]
  },
  {
   "cell_type": "markdown",
   "metadata": {},
   "source": [
    "##Estimator Failed for Xgb\n",
    "Linear regression is the best model because it has the least Root Mean Squared error"
   ]
  },
  {
   "cell_type": "code",
   "execution_count": null,
   "metadata": {},
   "outputs": [],
   "source": [
    "# Standardize the dataset\n",
    "pipelines = []\n",
    "pipelines.append(('ScaledLR', Pipeline([('Scaler', StandardScaler()),('LR',\n",
    "LinearRegression())])))\n",
    "pipelines.append(('ScaledLASSO', Pipeline([('Scaler', StandardScaler()),('LASSO',\n",
    "Lasso())])))\n",
    "pipelines.append(('ScaledEN', Pipeline([('Scaler', StandardScaler()),('EN',\n",
    "ElasticNet())])))\n",
    "pipelines.append(('ScaledKNN', Pipeline([('Scaler', StandardScaler()),('KNN',\n",
    "KNeighborsRegressor())])))\n",
    "pipelines.append(('ScaledCART', Pipeline([('Scaler', StandardScaler()),('CART',\n",
    "DecisionTreeRegressor())])))\n",
    "pipelines.append(('ScaledSVR', Pipeline([('Scaler', StandardScaler()),('SVR', SVR())])))\n",
    "results = []\n",
    "names = []\n",
    "for name, model in pipelines:\n",
    "    kfold = KFold(n_splits=num_folds)\n",
    "    cv_results = cross_val_score(model, X_train, y_train, cv=kfold, scoring=scoring)\n",
    "    results.append(cv_results)\n",
    "    names.append(name)\n",
    "    msg = \"%s: %f (%f)\" % (name, cv_results.mean(), cv_results.std())\n",
    "    print(msg)"
   ]
  },
  {
   "cell_type": "markdown",
   "metadata": {},
   "source": [
    "From the RMSE, the best model suggested is Linear Regression Model. However, the disparity between the values, the model is too good hence cannot be trusted. We can therefore focus on the other models. The best model is Rf ,after CART models,which is an ensemble method. Suggesting that the ensemble method would improve better perfomance. "
   ]
  },
  {
   "cell_type": "code",
   "execution_count": null,
   "metadata": {},
   "outputs": [],
   "source": [
    "# I did not run this ensemble to improve time  because of the time costraint\n",
    "# use ensemble methods \n",
    "# ensembles\n",
    "ensembles = []\n",
    "ensembles.append(('ScaledAB', Pipeline([('Scaler', StandardScaler()),('AB', AdaBoostRegressor())])))\n",
    "ensembles.append(('ScaledGBM', Pipeline([('Scaler', StandardScaler()),('GBM', GradientBoostingRegressor())])))\n",
    "ensembles.append(('ScaledRF', Pipeline([('Scaler', StandardScaler()),('RF', RandomForestRegressor())])))\n",
    "ensembles.append(('ScaledET', Pipeline([('Scaler', StandardScaler()),('ET', ExtraTreesRegressor())])))\n",
    "\n",
    "results = []\n",
    "names = []\n",
    "for name, model in ensembles:\n",
    "    kfold = KFold(n_splits=num_folds)\n",
    "    cv_results = cross_val_score(model, X_train, y_train, cv=kfold, scoring=scoring)\n",
    "    results.append(cv_results)\n",
    "    names.append(name)\n",
    "    msg = \"%s: %f (%f)\" % (name, cv_results.mean(), cv_results.std())\n",
    "    print(msg)\n",
    "\n"
   ]
  },
  {
   "cell_type": "code",
   "execution_count": null,
   "metadata": {},
   "outputs": [],
   "source": [
    "# Compare Algorithms\n",
    "fig = pyplot.figure()\n",
    "fig.suptitle('Scaled Ensemble Algorithm Comparison')\n",
    "ax = fig.add_subplot(111)\n",
    "pyplot.boxplot(results)\n",
    "ax.set_xticklabels(names)\n",
    "pyplot.show()"
   ]
  },
  {
   "cell_type": "code",
   "execution_count": null,
   "metadata": {},
   "outputs": [],
   "source": [
    "## Determine which is the best model after the ensemble method and train the model, the AB model performs best(AB model)"
   ]
  },
  {
   "cell_type": "code",
   "execution_count": null,
   "metadata": {},
   "outputs": [],
   "source": [
    "## Linear Regression is still the best model, by a huge difference so prepare the model\n",
    "# prepare the model\n",
    "scaler = StandardScaler().fit(X_train)\n",
    "rescaledX = scaler.transform(X_train)\n",
    "model = AdaBoostRegressor()\n",
    "model.fit(rescaledX, y_train)"
   ]
  },
  {
   "cell_type": "code",
   "execution_count": null,
   "metadata": {},
   "outputs": [],
   "source": [
    "# transform the validation dataset\n",
    "rescaledValidationX = scaler.transform(X_test)\n",
    "predictions = model.predict(rescaledValidationX)\n",
    "print(mean_squared_error(y_test, predictions))"
   ]
  },
  {
   "cell_type": "code",
   "execution_count": null,
   "metadata": {},
   "outputs": [],
   "source": [
    "## Residual Plot of Training data vs Test data\n",
    "import matplotlib.pyplot as plt\n",
    "plt.scatter(y_test, predictions)\n",
    "plt.xlabel('Actual values')\n",
    "plt.ylabel('Predicted values')\n",
    "plt.plot(np.unique(y_test), np.poly1d(np.polyfit(y_test, predictions, 1))(np.unique(y_test)))"
   ]
  },
  {
   "cell_type": "code",
   "execution_count": null,
   "metadata": {},
   "outputs": [],
   "source": []
  },
  {
   "cell_type": "code",
   "execution_count": null,
   "metadata": {},
   "outputs": [],
   "source": []
  },
  {
   "cell_type": "code",
   "execution_count": null,
   "metadata": {},
   "outputs": [],
   "source": []
  }
 ],
 "metadata": {
  "kernelspec": {
   "display_name": "Python 3",
   "language": "python",
   "name": "python3"
  },
  "language_info": {
   "codemirror_mode": {
    "name": "ipython",
    "version": 3
   },
   "file_extension": ".py",
   "mimetype": "text/x-python",
   "name": "python",
   "nbconvert_exporter": "python",
   "pygments_lexer": "ipython3",
   "version": "3.8.5"
  }
 },
 "nbformat": 4,
 "nbformat_minor": 4
}
